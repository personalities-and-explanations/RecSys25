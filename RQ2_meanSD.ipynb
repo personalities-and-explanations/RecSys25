{
  "nbformat": 4,
  "nbformat_minor": 0,
  "metadata": {
    "colab": {
      "provenance": [],
      "authorship_tag": "ABX9TyODRxWP4LCCOjV5tEMeXb8N"
    },
    "kernelspec": {
      "name": "python3",
      "display_name": "Python 3"
    },
    "language_info": {
      "name": "python"
    }
  },
  "cells": [
    {
      "cell_type": "code",
      "source": [
        "\n",
        "\n",
        "traits = ['Openness', 'Conscientiousness', 'Extroversion', 'Agreeableness', 'Neuroticism',  'FeatureBased']\n",
        "dimensions = ['listen', 'quality', 'taste', ]\n",
        "\n",
        "\n",
        "results = []\n",
        "\n",
        "\n",
        "for dim in dimensions:\n",
        "    row = {'Dimension': dim.capitalize()}\n",
        "    for trait in traits:\n",
        "        col = f\"{dim}_{trait}\"\n",
        "        if col in analysis_df.columns:\n",
        "            mean_val = analysis_df[col].mean()\n",
        "            std_val = analysis_df[col].std()\n",
        "            row[f\"{trait} (M±SD)\"] = f\"{mean_val:.2f} ± {std_val:.2f}\"\n",
        "        else:\n",
        "            row[f\"{trait} (M±SD)\"] = \"N/A\"\n",
        "    results.append(row)\n",
        "\n",
        "\n",
        "summary_df = pd.DataFrame(results)\n",
        "\n",
        "\n",
        "print(summary_df.to_string(index=False))\n"
      ],
      "metadata": {
        "colab": {
          "base_uri": "https://localhost:8080/"
        },
        "id": "Vc6LxHxtmexp",
        "outputId": "b4779f6b-cc82-4a15-ea57-f3677a14c962"
      },
      "execution_count": 3,
      "outputs": [
        {
          "output_type": "stream",
          "name": "stdout",
          "text": [
            "Dimension Openness (M±SD) Conscientiousness (M±SD) Extroversion (M±SD) Agreeableness (M±SD) Neuroticism (M±SD) FeatureBased (M±SD)\n",
            "   Listen     3.89 ± 0.98              3.82 ± 0.98         4.01 ± 0.90          4.03 ± 0.88        4.13 ± 0.88         4.07 ± 0.89\n",
            "  Quality     4.23 ± 0.79              4.14 ± 0.78         4.32 ± 0.75          4.34 ± 0.72        4.33 ± 0.76         4.35 ± 0.72\n",
            "    Taste     3.95 ± 0.93              3.91 ± 0.86         4.03 ± 0.86          4.09 ± 0.84        4.16 ± 0.83         4.15 ± 0.81\n"
          ]
        }
      ]
    }
  ]
}